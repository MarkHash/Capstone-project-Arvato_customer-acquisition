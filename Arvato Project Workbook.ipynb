{
 "cells": [
  {
   "cell_type": "markdown",
   "metadata": {},
   "source": [
    "# Capstone Project: Create a Customer Segmentation Report for Arvato Financial Services\n",
    "\n",
    "In this project, you will analyze demographics data for customers of a mail-order sales company in Germany, comparing it against demographics information for the general population. You'll use unsupervised learning techniques to perform customer segmentation, identifying the parts of the population that best describe the core customer base of the company. Then, you'll apply what you've learned on a third dataset with demographics information for targets of a marketing campaign for the company, and use a model to predict which individuals are most likely to convert into becoming customers for the company. The data that you will use has been provided by our partners at Bertelsmann Arvato Analytics, and represents a real-life data science task.\n",
    "\n",
    "If you completed the first term of this program, you will be familiar with the first part of this project, from the unsupervised learning project. The versions of those two datasets used in this project will include many more features and has not been pre-cleaned. You are also free to choose whatever approach you'd like to analyzing the data rather than follow pre-determined steps. In your work on this project, make sure that you carefully document your steps and decisions, since your main deliverable for this project will be a blog post reporting your findings."
   ]
  },
  {
   "cell_type": "code",
   "execution_count": 121,
   "metadata": {},
   "outputs": [],
   "source": [
    "# import libraries here; add more as necessary\n",
    "import numpy as np\n",
    "import pandas as pd\n",
    "import matplotlib.pyplot as plt\n",
    "import seaborn as sns\n",
    "from sklearn.preprocessing import LabelEncoder, StandardScaler, MinMaxScaler\n",
    "from sklearn.decomposition import PCA\n",
    "from sklearn.impute import SimpleImputer\n",
    "from sklearn.cluster import KMeans\n",
    "from sklearn.ensemble import RandomForestClassifier, AdaBoostClassifier, GradientBoostingClassifier\n",
    "from sklearn.linear_model import LogisticRegression\n",
    "from sklearn.model_selection import KFold, train_test_split, GridSearchCV, cross_val_score, learning_curve\n",
    "from sklearn.metrics import roc_auc_score, roc_curve, accuracy_score\n",
    "\n",
    "# magic word for producing visualizations in notebook\n",
    "%matplotlib inline\n",
    "\n",
    "from IPython.core.interactiveshell import InteractiveShell\n",
    "InteractiveShell.ast_node_interactivity = \"all\""
   ]
  },
  {
   "cell_type": "markdown",
   "metadata": {},
   "source": [
    "## Part 0: Get to Know the Data\n",
    "\n",
    "There are four data files associated with this project:\n",
    "\n",
    "- `Udacity_AZDIAS_052018.csv`: Demographics data for the general population of Germany; 891 211 persons (rows) x 366 features (columns).\n",
    "- `Udacity_CUSTOMERS_052018.csv`: Demographics data for customers of a mail-order company; 191 652 persons (rows) x 369 features (columns).\n",
    "- `Udacity_MAILOUT_052018_TRAIN.csv`: Demographics data for individuals who were targets of a marketing campaign; 42 982 persons (rows) x 367 (columns).\n",
    "- `Udacity_MAILOUT_052018_TEST.csv`: Demographics data for individuals who were targets of a marketing campaign; 42 833 persons (rows) x 366 (columns).\n",
    "\n",
    "Each row of the demographics files represents a single person, but also includes information outside of individuals, including information about their household, building, and neighborhood. Use the information from the first two files to figure out how customers (\"CUSTOMERS\") are similar to or differ from the general population at large (\"AZDIAS\"), then use your analysis to make predictions on the other two files (\"MAILOUT\"), predicting which recipients are most likely to become a customer for the mail-order company.\n",
    "\n",
    "The \"CUSTOMERS\" file contains three extra columns ('CUSTOMER_GROUP', 'ONLINE_PURCHASE', and 'PRODUCT_GROUP'), which provide broad information about the customers depicted in the file. The original \"MAILOUT\" file included one additional column, \"RESPONSE\", which indicated whether or not each recipient became a customer of the company. For the \"TRAIN\" subset, this column has been retained, but in the \"TEST\" subset it has been removed; it is against that withheld column that your final predictions will be assessed in the Kaggle competition.\n",
    "\n",
    "Otherwise, all of the remaining columns are the same between the three data files. For more information about the columns depicted in the files, you can refer to two Excel spreadsheets provided in the workspace. [One of them](./DIAS Information Levels - Attributes 2017.xlsx) is a top-level list of attributes and descriptions, organized by informational category. [The other](./DIAS Attributes - Values 2017.xlsx) is a detailed mapping of data values for each feature in alphabetical order.\n",
    "\n",
    "In the below cell, we've provided some initial code to load in the first two datasets. Note for all of the `.csv` data files in this project that they're semicolon (`;`) delimited, so an additional argument in the [`read_csv()`](https://pandas.pydata.org/pandas-docs/stable/generated/pandas.read_csv.html) call has been included to read in the data properly. Also, considering the size of the datasets, it may take some time for them to load completely.\n",
    "\n",
    "You'll notice when the data is loaded in that a warning message will immediately pop up. Before you really start digging into the modeling and analysis, you're going to need to perform some cleaning. Take some time to browse the structure of the data and look over the informational spreadsheets to understand the data values. Make some decisions on which features to keep, which features to drop, and if any revisions need to be made on data formats. It'll be a good idea to create a function with pre-processing steps, since you'll need to clean all of the datasets before you work with them."
   ]
  },
  {
   "cell_type": "code",
   "execution_count": 2,
   "metadata": {},
   "outputs": [
    {
     "name": "stderr",
     "output_type": "stream",
     "text": [
      "/Users/mhashimoto/opt/anaconda3/lib/python3.7/site-packages/IPython/core/interactiveshell.py:3058: DtypeWarning: Columns (18,19) have mixed types. Specify dtype option on import or set low_memory=False.\n",
      "  interactivity=interactivity, compiler=compiler, result=result)\n"
     ]
    }
   ],
   "source": [
    "# load in the data\n",
    "azdias = pd.read_csv('/Users/mhashimoto/anaconda2/projects/files/Udacity_AZDIAS_052018.csv', sep=';')\n",
    "customers = pd.read_csv('/Users/mhashimoto/anaconda2/projects/files/Udacity_CUSTOMERS_052018.csv', sep=';')\n",
    "dias_xls = pd.read_excel('/Users/mhashimoto/anaconda2/projects/files/DIAS Attributes - Values 2017.xlsx', header = 1)\n",
    "dias_info_level = pd.read_excel('/Users/mhashimoto/anaconda2/projects/files/DIAS Information Levels - Attributes 2017.xlsx', header = 1)"
   ]
  },
  {
   "cell_type": "code",
   "execution_count": 3,
   "metadata": {},
   "outputs": [
    {
     "name": "stdout",
     "output_type": "stream",
     "text": [
      "Index(['CAMEO_DEUG_2015', 'CAMEO_INTL_2015'], dtype='object')\n",
      "Index(['CAMEO_DEUG_2015', 'CAMEO_INTL_2015'], dtype='object')\n"
     ]
    }
   ],
   "source": [
    "print(azdias.iloc[:,18:20].columns)\n",
    "print(customers.iloc[:,18:20].columns)\n",
    "\n",
    "def data_cleanup(df):\n",
    "    cols = ['CAMEO_DEUG_2015', 'CAMEO_INTL_2015']\n",
    "    df[cols] = df[cols].replace({'X': np.nan, 'XX': np.nan})\n",
    "    df[cols] = df[cols].astype(float)\n",
    "\n",
    "    return df\n",
    "\n",
    "def dias_cleanup(df):\n",
    "    df.drop(columns=['Unnamed: 0'], inplace=True)\n",
    "    return df"
   ]
  },
  {
   "cell_type": "code",
   "execution_count": 4,
   "metadata": {},
   "outputs": [],
   "source": [
    "dias_xls_cleaned = dias_cleanup(dias_xls)\n",
    "dias_xls_cleaned['Attribute'] = dias_xls_cleaned['Attribute'].fillna(method='ffill')\n",
    "\n",
    "dias_info_cleaned = dias_cleanup(dias_info_level)\n",
    "dias_info_cleaned['Information level'] = dias_info_cleaned['Information level'].fillna(method='ffill')\n",
    "\n",
    "azdias_cleaned = data_cleanup(azdias)\n",
    "customers_cleaned = data_cleanup(customers)\n",
    "\n",
    "customers_cleaned = customers_cleaned.drop(['CUSTOMER_GROUP', 'ONLINE_PURCHASE', 'PRODUCT_GROUP'], inplace=False, axis=1)"
   ]
  },
  {
   "cell_type": "code",
   "execution_count": 5,
   "metadata": {},
   "outputs": [
    {
     "data": {
      "text/plain": [
       "array(['AGER_TYP', 'ALTERSKATEGORIE_GROB', 'ALTER_HH', 'ANREDE_KZ',\n",
       "       'ANZ_HAUSHALTE_AKTIV', 'ANZ_HH_TITEL', 'ANZ_PERSONEN', 'ANZ_TITEL',\n",
       "       'BALLRAUM', 'CAMEO_DEUG_2015', 'CAMEO_DEU_2015', 'CJT_GESAMTTYP',\n",
       "       'D19_BANKEN_ANZ_12', 'D19_BANKEN_ANZ_24', 'D19_BANKEN_DATUM',\n",
       "       'D19_BANKEN_OFFLINE_DATUM', 'D19_BANKEN_ONLINE_DATUM',\n",
       "       'D19_BANKEN_ONLINE_QUOTE_12', 'D19_GESAMT_ANZ_12',\n",
       "       'D19_GESAMT_ANZ_24', 'D19_GESAMT_DATUM',\n",
       "       'D19_GESAMT_OFFLINE_DATUM', 'D19_GESAMT_ONLINE_DATUM',\n",
       "       'D19_GESAMT_ONLINE_QUOTE_12', 'D19_KONSUMTYP', 'D19_TELKO_ANZ_12',\n",
       "       'D19_TELKO_ANZ_24', 'D19_TELKO_DATUM', 'D19_TELKO_OFFLINE_DATUM',\n",
       "       'D19_TELKO_ONLINE_DATUM', 'D19_VERSAND_ANZ_12',\n",
       "       'D19_VERSAND_ANZ_24', 'D19_VERSAND_DATUM',\n",
       "       'D19_VERSAND_OFFLINE_DATUM', 'D19_VERSAND_ONLINE_DATUM',\n",
       "       'D19_VERSAND_ONLINE_QUOTE_12', 'D19_VERSI_ANZ_12',\n",
       "       'D19_VERSI_ANZ_24', 'EWDICHTE', 'FINANZTYP', 'FINANZ_ANLEGER',\n",
       "       'FINANZ_HAUSBAUER', 'FINANZ_MINIMALIST', 'FINANZ_SPARER',\n",
       "       'FINANZ_UNAUFFAELLIGER', 'FINANZ_VORSORGER', 'GEBAEUDETYP',\n",
       "       'GEBAEUDETYP_RASTER', 'GEBURTSJAHR', 'GFK_URLAUBERTYP',\n",
       "       'GREEN_AVANTGARDE', 'HEALTH_TYP', 'HH_EINKOMMEN_SCORE',\n",
       "       'INNENSTADT', 'KBA05_ALTER1', 'KBA05_ALTER2', 'KBA05_ALTER3',\n",
       "       'KBA05_ALTER4', 'KBA05_ANHANG', 'KBA05_ANTG1', 'KBA05_ANTG2',\n",
       "       'KBA05_ANTG3', 'KBA05_ANTG4', 'KBA05_AUTOQUOT', 'KBA05_BAUMAX',\n",
       "       'KBA05_CCM1', 'KBA05_CCM2', 'KBA05_CCM3', 'KBA05_CCM4',\n",
       "       'KBA05_DIESEL', 'KBA05_FRAU', 'KBA05_GBZ', 'KBA05_HERST1',\n",
       "       'KBA05_HERST2', 'KBA05_HERST3', 'KBA05_HERST4', 'KBA05_HERST5',\n",
       "       'KBA05_HERSTTEMP', 'KBA05_KRSAQUOT', 'KBA05_KRSHERST1',\n",
       "       'KBA05_KRSHERST2', 'KBA05_KRSHERST3', 'KBA05_KRSKLEIN',\n",
       "       'KBA05_KRSOBER', 'KBA05_KRSVAN', 'KBA05_KRSZUL', 'KBA05_KW1',\n",
       "       'KBA05_KW2', 'KBA05_KW3', 'KBA05_MAXAH', 'KBA05_MAXBJ',\n",
       "       'KBA05_MAXHERST', 'KBA05_MAXSEG', 'KBA05_MAXVORB', 'KBA05_MOD1',\n",
       "       'KBA05_MOD2', 'KBA05_MOD3', 'KBA05_MOD4', 'KBA05_MOD8',\n",
       "       'KBA05_MODTEMP', 'KBA05_MOTOR', 'KBA05_MOTRAD', 'KBA05_SEG1',\n",
       "       'KBA05_SEG10', 'KBA05_SEG2', 'KBA05_SEG3', 'KBA05_SEG4',\n",
       "       'KBA05_SEG5', 'KBA05_SEG6', 'KBA05_SEG7', 'KBA05_SEG8',\n",
       "       'KBA05_SEG9', 'KBA05_VORB0', 'KBA05_VORB1', 'KBA05_VORB2',\n",
       "       'KBA05_ZUL1', 'KBA05_ZUL2', 'KBA05_ZUL3', 'KBA05_ZUL4',\n",
       "       'KBA13_ALTERHALTER_30', 'KBA13_ALTERHALTER_45',\n",
       "       'KBA13_ALTERHALTER_60', 'KBA13_ALTERHALTER_61', 'KBA13_ANZAHL_PKW',\n",
       "       'KBA13_AUDI', 'KBA13_AUTOQUOTE', 'KBA13_BJ_1999', 'KBA13_BJ_2000',\n",
       "       'KBA13_BJ_2004', 'KBA13_BJ_2006', 'KBA13_BJ_2008', 'KBA13_BJ_2009',\n",
       "       'KBA13_BMW', 'KBA13_CCM_0_1400', 'KBA13_CCM_1000',\n",
       "       'KBA13_CCM_1200', 'KBA13_CCM_1400', 'KBA13_CCM_1500',\n",
       "       'KBA13_CCM_1600', 'KBA13_CCM_1800', 'KBA13_CCM_2000',\n",
       "       'KBA13_CCM_2500', 'KBA13_CCM_2501', 'KBA13_CCM_3000',\n",
       "       'KBA13_CCM_3001', 'KBA13_FAB_ASIEN', 'KBA13_FAB_SONSTIGE',\n",
       "       'KBA13_FIAT', 'KBA13_FORD', 'KBA13_HALTER_20', 'KBA13_HALTER_25',\n",
       "       'KBA13_HALTER_30', 'KBA13_HALTER_35', 'KBA13_HALTER_40',\n",
       "       'KBA13_HALTER_45', 'KBA13_HALTER_50', 'KBA13_HALTER_55',\n",
       "       'KBA13_HALTER_60', 'KBA13_HALTER_65', 'KBA13_HALTER_66',\n",
       "       'KBA13_HERST_ASIEN', 'KBA13_HERST_AUDI_VW', 'KBA13_HERST_BMW_BENZ',\n",
       "       'KBA13_HERST_EUROPA', 'KBA13_HERST_FORD_OPEL', 'KBA13_HERST_SONST',\n",
       "       'KBA13_KMH_0_140', 'KBA13_KMH_110', 'KBA13_KMH_140',\n",
       "       'KBA13_KMH_140_210', 'KBA13_KMH_180', 'KBA13_KMH_211',\n",
       "       'KBA13_KMH_250', 'KBA13_KMH_251', 'KBA13_KRSAQUOT',\n",
       "       'KBA13_KRSHERST_AUDI_VW', 'KBA13_KRSHERST_BMW_BENZ',\n",
       "       'KBA13_KRSHERST_FORD_OPEL', 'KBA13_KRSSEG_KLEIN',\n",
       "       'KBA13_KRSSEG_OBER', 'KBA13_KRSSEG_VAN', 'KBA13_KRSZUL_NEU',\n",
       "       'KBA13_KW_0_60', 'KBA13_KW_110', 'KBA13_KW_120', 'KBA13_KW_121',\n",
       "       'KBA13_KW_30', 'KBA13_KW_40', 'KBA13_KW_50', 'KBA13_KW_60',\n",
       "       'KBA13_KW_61_120', 'KBA13_KW_70', 'KBA13_KW_80', 'KBA13_KW_90',\n",
       "       'KBA13_MAZDA', 'KBA13_MERCEDES', 'KBA13_MOTOR', 'KBA13_NISSAN',\n",
       "       'KBA13_OPEL', 'KBA13_PEUGEOT', 'KBA13_RENAULT',\n",
       "       'KBA13_SEG_GELAENDEWAGEN', 'KBA13_SEG_GROSSRAUMVANS',\n",
       "       'KBA13_SEG_KLEINST', 'KBA13_SEG_KLEINWAGEN',\n",
       "       'KBA13_SEG_KOMPAKTKLASSE', 'KBA13_SEG_MINIVANS',\n",
       "       'KBA13_SEG_MINIWAGEN', 'KBA13_SEG_MITTELKLASSE',\n",
       "       'KBA13_SEG_OBEREMITTELKLASSE', 'KBA13_SEG_OBERKLASSE',\n",
       "       'KBA13_SEG_SONSTIGE', 'KBA13_SEG_SPORTWAGEN',\n",
       "       'KBA13_SEG_UTILITIES', 'KBA13_SEG_VAN', 'KBA13_SEG_WOHNMOBILE',\n",
       "       'KBA13_SITZE_4', 'KBA13_SITZE_5', 'KBA13_SITZE_6', 'KBA13_TOYOTA',\n",
       "       'KBA13_VORB_0', 'KBA13_VORB_1', 'KBA13_VORB_1_2', 'KBA13_VORB_2',\n",
       "       'KBA13_VORB_3', 'KBA13_VW', 'KKK', 'KONSUMNAEHE',\n",
       "       'LP_FAMILIE_FEIN', 'LP_FAMILIE_GROB', 'LP_LEBENSPHASE_FEIN',\n",
       "       'LP_LEBENSPHASE_GROB', 'LP_STATUS_FEIN', 'LP_STATUS_GROB',\n",
       "       'MIN_GEBAEUDEJAHR', 'MOBI_REGIO', 'NATIONALITAET_KZ',\n",
       "       'ONLINE_AFFINITAET', 'ORTSGR_KLS9', 'OST_WEST_KZ', 'PLZ8_ANTG1',\n",
       "       'PLZ8_ANTG2', 'PLZ8_ANTG3', 'PLZ8_ANTG4', 'PLZ8_BAUMAX',\n",
       "       'PLZ8_GBZ', 'PLZ8_HHZ', 'PRAEGENDE_JUGENDJAHRE', 'REGIOTYP',\n",
       "       'RELAT_AB', 'RETOURTYP_BK_S', 'SEMIO_DOM', 'SEMIO_ERL',\n",
       "       'SEMIO_FAM', 'SEMIO_KAEM', 'SEMIO_KRIT', 'SEMIO_KULT',\n",
       "       'SEMIO_LUST', 'SEMIO_MAT', 'SEMIO_PFLICHT', 'SEMIO_RAT',\n",
       "       'SEMIO_REL', 'SEMIO_SOZ', 'SEMIO_TRADV', 'SEMIO_VERT',\n",
       "       'SHOPPER_TYP', 'TITEL_KZ', 'VERS_TYP', 'WOHNDAUER_2008',\n",
       "       'WOHNLAGE', 'W_KEIT_KIND_HH', 'ZABEOTYP'], dtype='<U27')"
      ]
     },
     "execution_count": 5,
     "metadata": {},
     "output_type": "execute_result"
    }
   ],
   "source": [
    "attributes = dias_xls_cleaned['Attribute'].unique().tolist()\n",
    "attr_azdias = list(azdias.columns)\n",
    "attr_common = np.intersect1d(attributes, attr_azdias)\n",
    "attr_common"
   ]
  },
  {
   "cell_type": "code",
   "execution_count": 6,
   "metadata": {},
   "outputs": [
    {
     "name": "stdout",
     "output_type": "stream",
     "text": [
      "# of attributes in azdias: 366\n",
      "# of attributes in DIAS Attributes: 314\n",
      "# of common attributes in both data: 272\n"
     ]
    }
   ],
   "source": [
    "print(\"# of attributes in azdias: \" + str(len(attr_azdias)))\n",
    "print(\"# of attributes in DIAS Attributes: \" + str(len(attributes)))\n",
    "print(\"# of common attributes in both data: \" + str(len(attr_common)))"
   ]
  },
  {
   "cell_type": "code",
   "execution_count": 7,
   "metadata": {},
   "outputs": [
    {
     "data": {
      "text/html": [
       "<div>\n",
       "<style scoped>\n",
       "    .dataframe tbody tr th:only-of-type {\n",
       "        vertical-align: middle;\n",
       "    }\n",
       "\n",
       "    .dataframe tbody tr th {\n",
       "        vertical-align: top;\n",
       "    }\n",
       "\n",
       "    .dataframe thead th {\n",
       "        text-align: right;\n",
       "    }\n",
       "</style>\n",
       "<table border=\"1\" class=\"dataframe\">\n",
       "  <thead>\n",
       "    <tr style=\"text-align: right;\">\n",
       "      <th></th>\n",
       "      <th>Attribute</th>\n",
       "      <th>Description</th>\n",
       "      <th>Value</th>\n",
       "      <th>Meaning</th>\n",
       "    </tr>\n",
       "  </thead>\n",
       "  <tbody>\n",
       "    <tr>\n",
       "      <td>0</td>\n",
       "      <td>AGER_TYP</td>\n",
       "      <td>best-ager typology</td>\n",
       "      <td>-1</td>\n",
       "      <td>unknown</td>\n",
       "    </tr>\n",
       "    <tr>\n",
       "      <td>5</td>\n",
       "      <td>ALTERSKATEGORIE_GROB</td>\n",
       "      <td>age classification through prename analysis</td>\n",
       "      <td>-1, 0</td>\n",
       "      <td>unknown</td>\n",
       "    </tr>\n",
       "    <tr>\n",
       "      <td>11</td>\n",
       "      <td>ALTER_HH</td>\n",
       "      <td>main age within the household</td>\n",
       "      <td>0</td>\n",
       "      <td>unknown / no main age detectable</td>\n",
       "    </tr>\n",
       "    <tr>\n",
       "      <td>33</td>\n",
       "      <td>ANREDE_KZ</td>\n",
       "      <td>gender</td>\n",
       "      <td>-1, 0</td>\n",
       "      <td>unknown</td>\n",
       "    </tr>\n",
       "    <tr>\n",
       "      <td>40</td>\n",
       "      <td>BALLRAUM</td>\n",
       "      <td>distance to next urban centre</td>\n",
       "      <td>-1</td>\n",
       "      <td>unknown</td>\n",
       "    </tr>\n",
       "    <tr>\n",
       "      <td>...</td>\n",
       "      <td>...</td>\n",
       "      <td>...</td>\n",
       "      <td>...</td>\n",
       "      <td>...</td>\n",
       "    </tr>\n",
       "    <tr>\n",
       "      <td>2219</td>\n",
       "      <td>WOHNDAUER_2008</td>\n",
       "      <td>length of residence</td>\n",
       "      <td>-1, 0</td>\n",
       "      <td>unknown</td>\n",
       "    </tr>\n",
       "    <tr>\n",
       "      <td>2229</td>\n",
       "      <td>WOHNLAGE</td>\n",
       "      <td>residential-area</td>\n",
       "      <td>-1</td>\n",
       "      <td>unknown</td>\n",
       "    </tr>\n",
       "    <tr>\n",
       "      <td>2238</td>\n",
       "      <td>WACHSTUMSGEBIET_NB</td>\n",
       "      <td>growing area (population growth in the last 5 ...</td>\n",
       "      <td>-1, 0</td>\n",
       "      <td>unknown</td>\n",
       "    </tr>\n",
       "    <tr>\n",
       "      <td>2244</td>\n",
       "      <td>W_KEIT_KIND_HH</td>\n",
       "      <td>likelihood of a child present in this household</td>\n",
       "      <td>-1, 0</td>\n",
       "      <td>unknown</td>\n",
       "    </tr>\n",
       "    <tr>\n",
       "      <td>2251</td>\n",
       "      <td>ZABEOTYP</td>\n",
       "      <td>typification of energy consumers</td>\n",
       "      <td>-1, 9</td>\n",
       "      <td>unknown</td>\n",
       "    </tr>\n",
       "  </tbody>\n",
       "</table>\n",
       "<p>244 rows × 4 columns</p>\n",
       "</div>"
      ],
      "text/plain": [
       "                 Attribute                                        Description  \\\n",
       "0                 AGER_TYP                                 best-ager typology   \n",
       "5     ALTERSKATEGORIE_GROB       age classification through prename analysis    \n",
       "11                ALTER_HH                      main age within the household   \n",
       "33               ANREDE_KZ                                             gender   \n",
       "40                BALLRAUM                     distance to next urban centre    \n",
       "...                    ...                                                ...   \n",
       "2219        WOHNDAUER_2008                                length of residence   \n",
       "2229              WOHNLAGE                                  residential-area    \n",
       "2238    WACHSTUMSGEBIET_NB  growing area (population growth in the last 5 ...   \n",
       "2244        W_KEIT_KIND_HH    likelihood of a child present in this household   \n",
       "2251              ZABEOTYP                   typification of energy consumers   \n",
       "\n",
       "      Value                           Meaning  \n",
       "0        -1                           unknown  \n",
       "5     -1, 0                           unknown  \n",
       "11        0  unknown / no main age detectable  \n",
       "33    -1, 0                           unknown  \n",
       "40       -1                           unknown  \n",
       "...     ...                               ...  \n",
       "2219  -1, 0                           unknown  \n",
       "2229     -1                           unknown  \n",
       "2238  -1, 0                           unknown  \n",
       "2244  -1, 0                           unknown  \n",
       "2251  -1, 9                           unknown  \n",
       "\n",
       "[244 rows x 4 columns]"
      ]
     },
     "execution_count": 7,
     "metadata": {},
     "output_type": "execute_result"
    }
   ],
   "source": [
    "unknown = dias_xls_cleaned.loc[np.where(dias_xls_cleaned['Meaning'].str.contains('unknown'))]['Meaning'].unique()\n",
    "unknown_meaning = dias_xls_cleaned[dias_xls_cleaned['Meaning'].isin(unknown)]\n",
    "\n",
    "unknown_meaning"
   ]
  },
  {
   "cell_type": "code",
   "execution_count": 8,
   "metadata": {},
   "outputs": [],
   "source": [
    "azdias_copy = azdias_cleaned.copy()\n",
    "customers_copy = customers_cleaned.copy()\n",
    "for row in unknown_meaning.iterrows():\n",
    "    attribute = row[1]['Attribute']\n",
    "    value = row[1]['Value']\n",
    "    \n",
    "    if attribute in azdias_copy.columns:\n",
    "        if isinstance(value, int):\n",
    "            azdias_copy[attribute].replace(value, np.nan, inplace=True)\n",
    "            customers_copy[attribute].replace(value, np.nan, inplace=True)\n",
    "        elif isinstance(value, str):\n",
    "            azdias_copy[attribute].replace(str(value), np.nan, inplace=True)\n",
    "            customers_copy[attribute].replace(str(value), np.nan, inplace=True)"
   ]
  },
  {
   "cell_type": "code",
   "execution_count": 9,
   "metadata": {},
   "outputs": [],
   "source": [
    "# Find attributes with more than 30% null data\n",
    "missing_val_azdias = pd.DataFrame(data = azdias_copy.isnull().mean(), columns = ['null_percentage'])\n",
    "missing_val_customers = pd.DataFrame(data = customers_copy.isnull().mean(), columns = ['null_percentage'])\n",
    "\n",
    "azdias_over30 = missing_val_azdias[missing_val_azdias['null_percentage'] > 0.3]\n",
    "customers_over30 = missing_val_customers[missing_val_customers['null_percentage'] > 0.3]"
   ]
  },
  {
   "cell_type": "code",
   "execution_count": 10,
   "metadata": {},
   "outputs": [
    {
     "data": {
      "text/plain": [
       "array(['LP_FAMILIE_GROB'], dtype=object)"
      ]
     },
     "execution_count": 10,
     "metadata": {},
     "output_type": "execute_result"
    },
    {
     "data": {
      "text/plain": [
       "array([], dtype=object)"
      ]
     },
     "execution_count": 10,
     "metadata": {},
     "output_type": "execute_result"
    },
    {
     "data": {
      "text/plain": [
       "array(['AGER_TYP', 'ALTER_HH', 'ALTER_KIND1', 'ALTER_KIND2',\n",
       "       'ALTER_KIND3', 'ALTER_KIND4', 'EXTSEL992', 'KK_KUNDENTYP',\n",
       "       'LP_STATUS_GROB'], dtype=object)"
      ]
     },
     "execution_count": 10,
     "metadata": {},
     "output_type": "execute_result"
    }
   ],
   "source": [
    "# Find unique attributes (with more than 30% null data) between customers and azdias\n",
    "np.setdiff1d(customers_over30.index, azdias_over30.index)\n",
    "np.setdiff1d(azdias_over30.index, customers_over30.index)\n",
    "\n",
    "# Find common attributes between customers and azdias in order to drop them\n",
    "common_attr = np.intersect1d(customers_over30.index, azdias_over30.index)\n",
    "common_attr"
   ]
  },
  {
   "cell_type": "code",
   "execution_count": 11,
   "metadata": {},
   "outputs": [],
   "source": [
    "# Drop attributes with more than 30% null data\n",
    "azdias_copy = azdias_copy.drop(common_attr, axis=1)\n",
    "customers_copy = customers_copy.drop(common_attr, axis=1)\n",
    "#customers_copy.isnull().mean().hist()"
   ]
  },
  {
   "cell_type": "code",
   "execution_count": 12,
   "metadata": {},
   "outputs": [
    {
     "data": {
      "text/html": [
       "<div>\n",
       "<style scoped>\n",
       "    .dataframe tbody tr th:only-of-type {\n",
       "        vertical-align: middle;\n",
       "    }\n",
       "\n",
       "    .dataframe tbody tr th {\n",
       "        vertical-align: top;\n",
       "    }\n",
       "\n",
       "    .dataframe thead th {\n",
       "        text-align: right;\n",
       "    }\n",
       "</style>\n",
       "<table border=\"1\" class=\"dataframe\">\n",
       "  <thead>\n",
       "    <tr style=\"text-align: right;\">\n",
       "      <th></th>\n",
       "      <th>CAMEO_DEU_2015</th>\n",
       "      <th>D19_LETZTER_KAUF_BRANCHE</th>\n",
       "      <th>EINGEFUEGT_AM</th>\n",
       "      <th>OST_WEST_KZ</th>\n",
       "    </tr>\n",
       "  </thead>\n",
       "  <tbody>\n",
       "    <tr>\n",
       "      <td>0</td>\n",
       "      <td>1A</td>\n",
       "      <td>D19_UNBEKANNT</td>\n",
       "      <td>1992-02-12 00:00:00</td>\n",
       "      <td>W</td>\n",
       "    </tr>\n",
       "    <tr>\n",
       "      <td>1</td>\n",
       "      <td>NaN</td>\n",
       "      <td>D19_BANKEN_GROSS</td>\n",
       "      <td>NaN</td>\n",
       "      <td>NaN</td>\n",
       "    </tr>\n",
       "    <tr>\n",
       "      <td>2</td>\n",
       "      <td>5D</td>\n",
       "      <td>D19_UNBEKANNT</td>\n",
       "      <td>1992-02-10 00:00:00</td>\n",
       "      <td>W</td>\n",
       "    </tr>\n",
       "    <tr>\n",
       "      <td>3</td>\n",
       "      <td>4C</td>\n",
       "      <td>D19_NAHRUNGSERGAENZUNG</td>\n",
       "      <td>1992-02-10 00:00:00</td>\n",
       "      <td>W</td>\n",
       "    </tr>\n",
       "    <tr>\n",
       "      <td>4</td>\n",
       "      <td>7B</td>\n",
       "      <td>D19_SCHUHE</td>\n",
       "      <td>1992-02-12 00:00:00</td>\n",
       "      <td>W</td>\n",
       "    </tr>\n",
       "    <tr>\n",
       "      <td>...</td>\n",
       "      <td>...</td>\n",
       "      <td>...</td>\n",
       "      <td>...</td>\n",
       "      <td>...</td>\n",
       "    </tr>\n",
       "    <tr>\n",
       "      <td>191647</td>\n",
       "      <td>1C</td>\n",
       "      <td>D19_BANKEN_REST</td>\n",
       "      <td>1992-02-10 00:00:00</td>\n",
       "      <td>W</td>\n",
       "    </tr>\n",
       "    <tr>\n",
       "      <td>191648</td>\n",
       "      <td>5B</td>\n",
       "      <td>D19_UNBEKANNT</td>\n",
       "      <td>1997-03-06 00:00:00</td>\n",
       "      <td>W</td>\n",
       "    </tr>\n",
       "    <tr>\n",
       "      <td>191649</td>\n",
       "      <td>4D</td>\n",
       "      <td>D19_TECHNIK</td>\n",
       "      <td>1992-02-10 00:00:00</td>\n",
       "      <td>W</td>\n",
       "    </tr>\n",
       "    <tr>\n",
       "      <td>191650</td>\n",
       "      <td>4C</td>\n",
       "      <td>D19_BANKEN_REST</td>\n",
       "      <td>1992-02-10 00:00:00</td>\n",
       "      <td>W</td>\n",
       "    </tr>\n",
       "    <tr>\n",
       "      <td>191651</td>\n",
       "      <td>5C</td>\n",
       "      <td>D19_SCHUHE</td>\n",
       "      <td>1992-02-12 00:00:00</td>\n",
       "      <td>W</td>\n",
       "    </tr>\n",
       "  </tbody>\n",
       "</table>\n",
       "<p>191652 rows × 4 columns</p>\n",
       "</div>"
      ],
      "text/plain": [
       "       CAMEO_DEU_2015 D19_LETZTER_KAUF_BRANCHE        EINGEFUEGT_AM  \\\n",
       "0                  1A            D19_UNBEKANNT  1992-02-12 00:00:00   \n",
       "1                 NaN         D19_BANKEN_GROSS                  NaN   \n",
       "2                  5D            D19_UNBEKANNT  1992-02-10 00:00:00   \n",
       "3                  4C   D19_NAHRUNGSERGAENZUNG  1992-02-10 00:00:00   \n",
       "4                  7B               D19_SCHUHE  1992-02-12 00:00:00   \n",
       "...               ...                      ...                  ...   \n",
       "191647             1C          D19_BANKEN_REST  1992-02-10 00:00:00   \n",
       "191648             5B            D19_UNBEKANNT  1997-03-06 00:00:00   \n",
       "191649             4D              D19_TECHNIK  1992-02-10 00:00:00   \n",
       "191650             4C          D19_BANKEN_REST  1992-02-10 00:00:00   \n",
       "191651             5C               D19_SCHUHE  1992-02-12 00:00:00   \n",
       "\n",
       "       OST_WEST_KZ  \n",
       "0                W  \n",
       "1              NaN  \n",
       "2                W  \n",
       "3                W  \n",
       "4                W  \n",
       "...            ...  \n",
       "191647           W  \n",
       "191648           W  \n",
       "191649           W  \n",
       "191650           W  \n",
       "191651           W  \n",
       "\n",
       "[191652 rows x 4 columns]"
      ]
     },
     "execution_count": 12,
     "metadata": {},
     "output_type": "execute_result"
    }
   ],
   "source": [
    "# Find attributes with object type (for preprocessing)\n",
    "types_customers = pd.DataFrame(data = customers_copy.dtypes, columns = ['types'])\n",
    "customers_object = types_customers[types_customers['types'] == 'object']\n",
    "customers_copy[customers_object.index]"
   ]
  },
  {
   "cell_type": "code",
   "execution_count": 13,
   "metadata": {},
   "outputs": [
    {
     "data": {
      "text/html": [
       "<div>\n",
       "<style scoped>\n",
       "    .dataframe tbody tr th:only-of-type {\n",
       "        vertical-align: middle;\n",
       "    }\n",
       "\n",
       "    .dataframe tbody tr th {\n",
       "        vertical-align: top;\n",
       "    }\n",
       "\n",
       "    .dataframe thead th {\n",
       "        text-align: right;\n",
       "    }\n",
       "</style>\n",
       "<table border=\"1\" class=\"dataframe\">\n",
       "  <thead>\n",
       "    <tr style=\"text-align: right;\">\n",
       "      <th></th>\n",
       "      <th>CAMEO_DEU_2015</th>\n",
       "      <th>D19_LETZTER_KAUF_BRANCHE</th>\n",
       "      <th>EINGEFUEGT_AM</th>\n",
       "      <th>OST_WEST_KZ</th>\n",
       "    </tr>\n",
       "  </thead>\n",
       "  <tbody>\n",
       "    <tr>\n",
       "      <td>0</td>\n",
       "      <td>NaN</td>\n",
       "      <td>NaN</td>\n",
       "      <td>NaN</td>\n",
       "      <td>NaN</td>\n",
       "    </tr>\n",
       "    <tr>\n",
       "      <td>1</td>\n",
       "      <td>8A</td>\n",
       "      <td>NaN</td>\n",
       "      <td>1992-02-10 00:00:00</td>\n",
       "      <td>W</td>\n",
       "    </tr>\n",
       "    <tr>\n",
       "      <td>2</td>\n",
       "      <td>4C</td>\n",
       "      <td>D19_UNBEKANNT</td>\n",
       "      <td>1992-02-12 00:00:00</td>\n",
       "      <td>W</td>\n",
       "    </tr>\n",
       "    <tr>\n",
       "      <td>3</td>\n",
       "      <td>2A</td>\n",
       "      <td>D19_UNBEKANNT</td>\n",
       "      <td>1997-04-21 00:00:00</td>\n",
       "      <td>W</td>\n",
       "    </tr>\n",
       "    <tr>\n",
       "      <td>4</td>\n",
       "      <td>6B</td>\n",
       "      <td>D19_SCHUHE</td>\n",
       "      <td>1992-02-12 00:00:00</td>\n",
       "      <td>W</td>\n",
       "    </tr>\n",
       "    <tr>\n",
       "      <td>...</td>\n",
       "      <td>...</td>\n",
       "      <td>...</td>\n",
       "      <td>...</td>\n",
       "      <td>...</td>\n",
       "    </tr>\n",
       "    <tr>\n",
       "      <td>891216</td>\n",
       "      <td>7A</td>\n",
       "      <td>D19_HAUS_DEKO</td>\n",
       "      <td>1992-02-10 00:00:00</td>\n",
       "      <td>W</td>\n",
       "    </tr>\n",
       "    <tr>\n",
       "      <td>891217</td>\n",
       "      <td>9D</td>\n",
       "      <td>D19_UNBEKANNT</td>\n",
       "      <td>1992-02-10 00:00:00</td>\n",
       "      <td>W</td>\n",
       "    </tr>\n",
       "    <tr>\n",
       "      <td>891218</td>\n",
       "      <td>4C</td>\n",
       "      <td>D19_BEKLEIDUNG_GEH</td>\n",
       "      <td>1992-02-10 00:00:00</td>\n",
       "      <td>W</td>\n",
       "    </tr>\n",
       "    <tr>\n",
       "      <td>891219</td>\n",
       "      <td>9D</td>\n",
       "      <td>D19_UNBEKANNT</td>\n",
       "      <td>1992-02-12 00:00:00</td>\n",
       "      <td>W</td>\n",
       "    </tr>\n",
       "    <tr>\n",
       "      <td>891220</td>\n",
       "      <td>6B</td>\n",
       "      <td>NaN</td>\n",
       "      <td>1992-02-10 00:00:00</td>\n",
       "      <td>W</td>\n",
       "    </tr>\n",
       "  </tbody>\n",
       "</table>\n",
       "<p>891221 rows × 4 columns</p>\n",
       "</div>"
      ],
      "text/plain": [
       "       CAMEO_DEU_2015 D19_LETZTER_KAUF_BRANCHE        EINGEFUEGT_AM  \\\n",
       "0                 NaN                      NaN                  NaN   \n",
       "1                  8A                      NaN  1992-02-10 00:00:00   \n",
       "2                  4C            D19_UNBEKANNT  1992-02-12 00:00:00   \n",
       "3                  2A            D19_UNBEKANNT  1997-04-21 00:00:00   \n",
       "4                  6B               D19_SCHUHE  1992-02-12 00:00:00   \n",
       "...               ...                      ...                  ...   \n",
       "891216             7A            D19_HAUS_DEKO  1992-02-10 00:00:00   \n",
       "891217             9D            D19_UNBEKANNT  1992-02-10 00:00:00   \n",
       "891218             4C       D19_BEKLEIDUNG_GEH  1992-02-10 00:00:00   \n",
       "891219             9D            D19_UNBEKANNT  1992-02-12 00:00:00   \n",
       "891220             6B                      NaN  1992-02-10 00:00:00   \n",
       "\n",
       "       OST_WEST_KZ  \n",
       "0              NaN  \n",
       "1                W  \n",
       "2                W  \n",
       "3                W  \n",
       "4                W  \n",
       "...            ...  \n",
       "891216           W  \n",
       "891217           W  \n",
       "891218           W  \n",
       "891219           W  \n",
       "891220           W  \n",
       "\n",
       "[891221 rows x 4 columns]"
      ]
     },
     "execution_count": 13,
     "metadata": {},
     "output_type": "execute_result"
    }
   ],
   "source": [
    "# Find attributes with object type (for preprocessing)\n",
    "types_azdias = pd.DataFrame(data = azdias_copy.dtypes, columns = ['types'])\n",
    "azdias_object = types_azdias[types_azdias['types'] == 'object']\n",
    "azdias_copy[azdias_object.index]"
   ]
  },
  {
   "cell_type": "code",
   "execution_count": 14,
   "metadata": {},
   "outputs": [],
   "source": [
    "def pre_processing(df):\n",
    "    \n",
    "    df['EINGEFUEGT_AM'] = pd.to_datetime(df['EINGEFUEGT_AM']).dt.year\n",
    "    \n",
    "    label_encoder = LabelEncoder()\n",
    "    df['D19_LETZTER_KAUF_BRANCHE'] = label_encoder.fit_transform(df['D19_LETZTER_KAUF_BRANCHE'].astype(str))\n",
    "\n",
    "    fill_data_CAMEO = df['CAMEO_DEU_2015'].value_counts().idxmax()\n",
    "    df['CAMEO_DEU_2015'] = df['CAMEO_DEU_2015'].fillna(fill_data_CAMEO)\n",
    "    df['CAMEO_DEU_2015'] = df['CAMEO_DEU_2015'].replace('XX', fill_data_CAMEO)\n",
    "    df['CAMEO_DEU_2015'] = label_encoder.fit_transform(df['CAMEO_DEU_2015'])\n",
    "    \n",
    "    fill_data_OST = df['OST_WEST_KZ'].value_counts().idxmax()\n",
    "    df['OST_WEST_KZ'] = df['OST_WEST_KZ'].fillna(fill_data_OST)\n",
    "    df['OST_WEST_KZ'] = df['OST_WEST_KZ'].astype(str).replace({'W': 1, 'O': 2, np.nan: fill_data_OST})\n",
    "    \n",
    "    imputer = SimpleImputer(strategy = 'most_frequent')\n",
    "    imputed_df = pd.DataFrame(imputer.fit_transform(df), index = df.index, columns = df.columns)\n",
    "    return imputed_df"
   ]
  },
  {
   "cell_type": "code",
   "execution_count": 15,
   "metadata": {},
   "outputs": [],
   "source": [
    "processed_customers = pre_processing(customers_copy).drop('LNR', axis=1, inplace=False)\n",
    "processed_azdias = pre_processing(azdias_copy).drop('LNR', axis=1, inplace=False)"
   ]
  },
  {
   "cell_type": "code",
   "execution_count": 16,
   "metadata": {},
   "outputs": [],
   "source": [
    "# Scaling with MinMaxScaler\n",
    "azdias_MMS = pd.DataFrame(MinMaxScaler().fit_transform(processed_azdias), columns=processed_azdias.columns)\n",
    "customers_MMS = pd.DataFrame(MinMaxScaler().fit_transform(processed_customers), columns=processed_customers.columns)"
   ]
  },
  {
   "cell_type": "code",
   "execution_count": 17,
   "metadata": {},
   "outputs": [],
   "source": [
    "# Principal component analysis\n",
    "num_comp_azdias = len(azdias_MMS.columns.values)\n",
    "num_comp_customers = len(customers_MMS.columns.values)\n",
    "\n",
    "pca_azdias = PCA(num_comp_azdias)\n",
    "pca_customers = PCA(num_comp_customers)\n",
    "\n",
    "pca_azdias_MMS = pca_azdias.fit(azdias_MMS)\n",
    "pca_customers_MMS = pca_customers.fit(customers_MMS)\n"
   ]
  },
  {
   "cell_type": "code",
   "execution_count": 18,
   "metadata": {},
   "outputs": [],
   "source": [
    "def scree_plot(scaled_data):\n",
    "    plt.subplot(1,1,1)\n",
    "    plt.plot(np.cumsum(scaled_data.explained_variance_ratio_))\n",
    "    plt.xlabel('Number of components')\n",
    "    plt.ylabel('Explained variance ratio')\n",
    "    plt.title('Explained variance ratio vs Number of MMS components')\n",
    "    plt.grid(b=True)\n",
    "    plot = plt.show()"
   ]
  },
  {
   "cell_type": "code",
   "execution_count": 19,
   "metadata": {},
   "outputs": [
    {
     "data": {
      "image/png": "[encoded data removed]",
      "text/plain": [
       "<Figure size 432x288 with 1 Axes>"
      ]
     },
     "metadata": {
      "needs_background": "light"
     },
     "output_type": "display_data"
    }
   ],
   "source": [
    "scree_plot(pca_azdias_MMS)"
   ]
  },
  {
   "cell_type": "code",
   "execution_count": 20,
   "metadata": {},
   "outputs": [
    {
     "data": {
      "image/png": "[encoded data removed]",
      "text/plain": [
       "<Figure size 432x288 with 1 Axes>"
      ]
     },
     "metadata": {
      "needs_background": "light"
     },
     "output_type": "display_data"
    }
   ],
   "source": [
    "scree_plot(pca_azdias_MMS)"
   ]
  },
  {
   "cell_type": "code",
   "execution_count": 21,
   "metadata": {},
   "outputs": [],
   "source": [
    "pca = PCA(n_components=200)\n",
    "azdias_pca = pca.fit_transform(azdias_MMS)"
   ]
  },
  {
   "cell_type": "code",
   "execution_count": 23,
   "metadata": {},
   "outputs": [],
   "source": [
    "centers = []\n",
    "scores = []\n",
    "\n",
    "for cluster in range(2, 15, 1):\n",
    "    kmean = KMeans(cluster)\n",
    "    model = kmean.fit(azdias_pca)\n",
    "    centers.append(cluster)\n",
    "    scores.append(np.abs(model.score(azdias_pca)))"
   ]
  },
  {
   "cell_type": "code",
   "execution_count": 82,
   "metadata": {},
   "outputs": [
    {
     "data": {
      "text/plain": [
       "[<matplotlib.lines.Line2D at 0x7fcba8325ed0>]"
      ]
     },
     "execution_count": 82,
     "metadata": {},
     "output_type": "execute_result"
    },
    {
     "data": {
      "text/plain": [
       "Text(0.5, 0, 'Number of K')"
      ]
     },
     "execution_count": 82,
     "metadata": {},
     "output_type": "execute_result"
    },
    {
     "data": {
      "text/plain": [
       "Text(0, 0.5, 'Score')"
      ]
     },
     "execution_count": 82,
     "metadata": {},
     "output_type": "execute_result"
    },
    {
     "data": {
      "text/plain": [
       "Text(0.5, 1.0, 'Score vs Number of K')"
      ]
     },
     "execution_count": 82,
     "metadata": {},
     "output_type": "execute_result"
    },
    {
     "data": {
      "image/png": "[encoded data removed]",
      "text/plain": [
       "<Figure size 432x288 with 1 Axes>"
      ]
     },
     "metadata": {
      "needs_background": "light"
     },
     "output_type": "display_data"
    }
   ],
   "source": [
    "plt.plot(centers, scores, linestyle='--', marker='o', color='b');\n",
    "plt.xlabel('Number of K');\n",
    "plt.ylabel('Score');\n",
    "plt.title('Score vs Number of K')"
   ]
  },
  {
   "cell_type": "code",
   "execution_count": 25,
   "metadata": {},
   "outputs": [],
   "source": [
    "kmeans = KMeans(7)\n",
    "k_model = kmeans.fit(azdias_pca)\n",
    "azdias_pred = kmeans.predict(azdias_pca)\n"
   ]
  },
  {
   "cell_type": "code",
   "execution_count": 26,
   "metadata": {},
   "outputs": [],
   "source": [
    "customers_pca = pca.fit_transform(customers_MMS)\n",
    "customers_pred = kmeans.predict(customers_pca)"
   ]
  },
  {
   "cell_type": "code",
   "execution_count": 27,
   "metadata": {},
   "outputs": [],
   "source": [
    "counts_cluster_gen = pd.Series(azdias_pred).value_counts()\n",
    "prop_cluster_general = counts_cluster_gen/len(azdias_pred)\n",
    "\n",
    "counts_cluster_customer = pd.Series(customers_pred).value_counts()\n",
    "prop_cluster_customer = counts_cluster_customer/len(customers_pred)\n"
   ]
  },
  {
   "cell_type": "code",
   "execution_count": 28,
   "metadata": {},
   "outputs": [
    {
     "data": {
      "text/plain": [
       "<matplotlib.axes._subplots.AxesSubplot at 0x7fd6134f44d0>"
      ]
     },
     "execution_count": 28,
     "metadata": {},
     "output_type": "execute_result"
    },
    {
     "data": {
      "text/plain": [
       "Text(0, 0.5, 'Proportion of people in each cluster')"
      ]
     },
     "execution_count": 28,
     "metadata": {},
     "output_type": "execute_result"
    },
    {
     "data": {
      "text/plain": [
       "<function matplotlib.pyplot.show(*args, **kw)>"
      ]
     },
     "execution_count": 28,
     "metadata": {},
     "output_type": "execute_result"
    },
    {
     "data": {
      "image/png": "[encoded data removed]",
      "text/plain": [
       "<Figure size 720x432 with 1 Axes>"
      ]
     },
     "metadata": {
      "needs_background": "light"
     },
     "output_type": "display_data"
    }
   ],
   "source": [
    "prop = pd.DataFrame({'General population proportion': prop_cluster_general,\n",
    "                    'Customer proportion': prop_cluster_customer})\n",
    "prop = prop.fillna(0)\n",
    "prop['cluster'] = prop.index + 1\n",
    "#prop\n",
    "prop.plot(x='cluster', y=['General population proportion', 'Customer proportion'], kind = 'bar', figsize = (10, 6))\n",
    "plt.ylabel('Proportion of people in each cluster')\n",
    "plt.show"
   ]
  },
  {
   "cell_type": "code",
   "execution_count": null,
   "metadata": {},
   "outputs": [],
   "source": []
  },
  {
   "cell_type": "markdown",
   "metadata": {},
   "source": [
    "## Part 2: Supervised Learning Model\n",
    "\n",
    "Now that you've found which parts of the population are more likely to be customers of the mail-order company, it's time to build a prediction model. Each of the rows in the \"MAILOUT\" data files represents an individual that was targeted for a mailout campaign. Ideally, we should be able to use the demographic information from each individual to decide whether or not it will be worth it to include that person in the campaign.\n",
    "\n",
    "The \"MAILOUT\" data has been split into two approximately equal parts, each with almost 43 000 data rows. In this part, you can verify your model with the \"TRAIN\" partition, which includes a column, \"RESPONSE\", that states whether or not a person became a customer of the company following the campaign. In the next part, you'll need to create predictions on the \"TEST\" partition, where the \"RESPONSE\" column has been withheld."
   ]
  },
  {
   "cell_type": "code",
   "execution_count": 133,
   "metadata": {},
   "outputs": [
    {
     "name": "stderr",
     "output_type": "stream",
     "text": [
      "/Users/mhashimoto/opt/anaconda3/lib/python3.7/site-packages/IPython/core/interactiveshell.py:3058: DtypeWarning: Columns (18,19) have mixed types. Specify dtype option on import or set low_memory=False.\n",
      "  interactivity=interactivity, compiler=compiler, result=result)\n"
     ]
    }
   ],
   "source": [
    "mailout_train = pd.read_csv('/Users/mhashimoto/anaconda2/projects/files/Udacity_MAILOUT_052018_TRAIN.csv', sep=';')"
   ]
  },
  {
   "cell_type": "code",
   "execution_count": 134,
   "metadata": {},
   "outputs": [],
   "source": [
    "mailout_train_cleaned = data_cleanup(mailout_train)\n",
    "mailout_train_copy = mailout_train_cleaned.copy()\n",
    "\n",
    "for row in unknown_meaning.iterrows():\n",
    "    attribute = row[1]['Attribute']\n",
    "    value = row[1]['Value']\n",
    "    \n",
    "    if attribute in mailout_train_copy.columns:\n",
    "        if isinstance(value, int):\n",
    "            mailout_train_copy[attribute].replace(value, np.nan, inplace=True)\n",
    "        elif isinstance(value, str):\n",
    "            mailout_train_copy[attribute].replace(str(value), np.nan, inplace=True)"
   ]
  },
  {
   "cell_type": "code",
   "execution_count": 135,
   "metadata": {},
   "outputs": [
    {
     "data": {
      "text/plain": [
       "0"
      ]
     },
     "execution_count": 135,
     "metadata": {},
     "output_type": "execute_result"
    }
   ],
   "source": [
    "target = mailout_train_copy['RESPONSE']\n",
    "features = mailout_train_copy.drop(['LNR', 'RESPONSE'], axis=1)\n",
    "\n",
    "features = features.drop(common_attr, axis=1)\n",
    "processed_mailout_train = pre_processing(features)\n",
    "processed_mailout_train.isnull().sum().sum()\n",
    "\n",
    "mailout_train_MMS = pd.DataFrame(MinMaxScaler().fit_transform(processed_mailout_train), columns=processed_mailout_train.columns)"
   ]
  },
  {
   "cell_type": "code",
   "execution_count": 136,
   "metadata": {},
   "outputs": [],
   "source": [
    "models = []\n",
    "models.append(('Logistic Regression', LogisticRegression(solver='lbfgs', max_iter=10000)))\n",
    "models.append(('Random Forest Classifier', RandomForestClassifier(n_estimators=100)))\n",
    "models.append(('Ada Boost Classifier', AdaBoostClassifier()))\n",
    "models.append(('Gradient Boosting Classifier', GradientBoostingClassifier()))"
   ]
  },
  {
   "cell_type": "code",
   "execution_count": 137,
   "metadata": {},
   "outputs": [],
   "source": [
    "def plt_learning_curve(cv_score, train_score, test_score, name):\n",
    "    print('Model: {}, Score mean: {:.2f}, Scores std: {:.2f}'.format(name, cv_score.mean(), cv_score.std()))\n",
    "    print('roc_auc train score: {}'.format(train_score[-1].round(2)))\n",
    "    print('roc_auc validation score: {}'.format(test_score[-1].round(2)))\n",
    "    \n",
    "    plt.grid()\n",
    "    plt.title('Learning curve for {}'.format(name))\n",
    "    plt.xlabel('% of training set')\n",
    "    plt.ylabel('Score')\n",
    "    plt.plot(np.linspace(.1, 1.0,10)*100, train_score, 'o-', color='g', label='Training score')\n",
    "    plt.plot(np.linspace(.1, 1.0,10)*100, test_score, 'o-', color='r', label='Cross-validation score')\n",
    "    plt.yticks(np.arange(0.45, 1.02, 0.05))\n",
    "    plt.xticks(np.arange(0, 100.05, 10))\n",
    "    plt.legend(loc='best')\n",
    "    plt.show()"
   ]
  },
  {
   "cell_type": "code",
   "execution_count": 138,
   "metadata": {},
   "outputs": [
    {
     "name": "stdout",
     "output_type": "stream",
     "text": [
      "Model: Logistic Regression, Score mean: 0.67, Scores std: 0.02\n",
      "roc_auc train score: 0.81\n",
      "roc_auc validation score: 0.67\n"
     ]
    },
    {
     "data": {
      "image/png": "[encoded data removed]",
      "text/plain": [
       "<Figure size 432x288 with 1 Axes>"
      ]
     },
     "metadata": {
      "needs_background": "light"
     },
     "output_type": "display_data"
    },
    {
     "name": "stdout",
     "output_type": "stream",
     "text": [
      "Model: Random Forest Classifier, Score mean: 0.61, Scores std: 0.02\n",
      "roc_auc train score: 0.97\n",
      "roc_auc validation score: 0.62\n"
     ]
    },
    {
     "data": {
      "image/png": "[encoded data removed]",
      "text/plain": [
       "<Figure size 432x288 with 1 Axes>"
      ]
     },
     "metadata": {
      "needs_background": "light"
     },
     "output_type": "display_data"
    },
    {
     "name": "stdout",
     "output_type": "stream",
     "text": [
      "Model: Ada Boost Classifier, Score mean: 0.73, Scores std: 0.02\n",
      "roc_auc train score: 0.84\n",
      "roc_auc validation score: 0.73\n"
     ]
    },
    {
     "data": {
      "image/png": "[encoded data removed]",
      "text/plain": [
       "<Figure size 432x288 with 1 Axes>"
      ]
     },
     "metadata": {
      "needs_background": "light"
     },
     "output_type": "display_data"
    },
    {
     "name": "stdout",
     "output_type": "stream",
     "text": [
      "Model: Gradient Boosting Classifier, Score mean: 0.76, Scores std: 0.02\n",
      "roc_auc train score: 0.91\n",
      "roc_auc validation score: 0.75\n"
     ]
    },
    {
     "data": {
      "image/png": "[encoded data removed]",
      "text/plain": [
       "<Figure size 432x288 with 1 Axes>"
      ]
     },
     "metadata": {
      "needs_background": "light"
     },
     "output_type": "display_data"
    }
   ],
   "source": [
    "results = []\n",
    "model_names = []\n",
    "n_splits = 5\n",
    "for model_name, model in models:\n",
    "    #X_train, X_valid = processed_mailout_train.iloc[train_idx], processed_mailout_train.iloc[valid_idx]\n",
    "    #y_train, y_valid = target.iloc[train_idx], target.iloc[valid_idx]\n",
    "    #model.fit(X_train, y_train)\n",
    "    #y_pred = model.predict(X_valid)\n",
    "    #score = roc_auc_score(y_valid, y_pred)\n",
    "    cv_results = cross_val_score(model, mailout_train_MMS, target, cv=n_splits, scoring='roc_auc', n_jobs=1)\n",
    "    results.append(cv_results.mean())\n",
    "    model_names.append(model_name)\n",
    "\n",
    "    train_sizes, train_scores, test_scores = learning_curve(model, mailout_train_MMS, target, cv=n_splits, scoring='roc_auc', train_sizes=np.linspace(.1, 1.0, 10), n_jobs=1)\n",
    "    train_scores_mean = np.mean(train_scores, axis=1)\n",
    "    test_scores_mean = np.mean(test_scores, axis=1)\n",
    "    \n",
    "    plt_learning_curve(cv_results, train_scores_mean, test_scores_mean, model_name)"
   ]
  },
  {
   "cell_type": "code",
   "execution_count": 139,
   "metadata": {},
   "outputs": [
    {
     "data": {
      "text/html": [
       "<div>\n",
       "<style scoped>\n",
       "    .dataframe tbody tr th:only-of-type {\n",
       "        vertical-align: middle;\n",
       "    }\n",
       "\n",
       "    .dataframe tbody tr th {\n",
       "        vertical-align: top;\n",
       "    }\n",
       "\n",
       "    .dataframe thead th {\n",
       "        text-align: right;\n",
       "    }\n",
       "</style>\n",
       "<table border=\"1\" class=\"dataframe\">\n",
       "  <thead>\n",
       "    <tr style=\"text-align: right;\">\n",
       "      <th></th>\n",
       "      <th>Model</th>\n",
       "      <th>Score</th>\n",
       "    </tr>\n",
       "  </thead>\n",
       "  <tbody>\n",
       "    <tr>\n",
       "      <td>0</td>\n",
       "      <td>Logistic Regression</td>\n",
       "      <td>0.674862</td>\n",
       "    </tr>\n",
       "    <tr>\n",
       "      <td>1</td>\n",
       "      <td>Random Forest Classifier</td>\n",
       "      <td>0.605910</td>\n",
       "    </tr>\n",
       "    <tr>\n",
       "      <td>2</td>\n",
       "      <td>Ada Boost Classifier</td>\n",
       "      <td>0.727178</td>\n",
       "    </tr>\n",
       "    <tr>\n",
       "      <td>3</td>\n",
       "      <td>Gradient Boosting Classifier</td>\n",
       "      <td>0.758261</td>\n",
       "    </tr>\n",
       "  </tbody>\n",
       "</table>\n",
       "</div>"
      ],
      "text/plain": [
       "                          Model     Score\n",
       "0           Logistic Regression  0.674862\n",
       "1      Random Forest Classifier  0.605910\n",
       "2          Ada Boost Classifier  0.727178\n",
       "3  Gradient Boosting Classifier  0.758261"
      ]
     },
     "execution_count": 139,
     "metadata": {},
     "output_type": "execute_result"
    }
   ],
   "source": [
    "score_df = pd.DataFrame({'Model': model_names, 'Score': results})\n",
    "score_df"
   ]
  },
  {
   "cell_type": "code",
   "execution_count": 140,
   "metadata": {},
   "outputs": [
    {
     "data": {
      "text/plain": [
       "GridSearchCV(cv=5, error_score='raise-deprecating',\n",
       "             estimator=GradientBoostingClassifier(criterion='friedman_mse',\n",
       "                                                  init=None, learning_rate=0.1,\n",
       "                                                  loss='deviance', max_depth=3,\n",
       "                                                  max_features=None,\n",
       "                                                  max_leaf_nodes=None,\n",
       "                                                  min_impurity_decrease=0.0,\n",
       "                                                  min_impurity_split=None,\n",
       "                                                  min_samples_leaf=1,\n",
       "                                                  min_samples_split=2,\n",
       "                                                  min_weight_fraction_leaf=0.0,\n",
       "                                                  n_estimators=100,\n",
       "                                                  n_iter_no_change=None,\n",
       "                                                  presort='auto',\n",
       "                                                  random_state=None,\n",
       "                                                  subsample=1.0, tol=0.0001,\n",
       "                                                  validation_fraction=0.1,\n",
       "                                                  verbose=0, warm_start=False),\n",
       "             iid='warn', n_jobs=None,\n",
       "             param_grid={'max_depth': [3, 5], 'n_estimators': [100, 200, 500]},\n",
       "             pre_dispatch='2*n_jobs', refit=True, return_train_score=False,\n",
       "             scoring='roc_auc', verbose=0)"
      ]
     },
     "execution_count": 140,
     "metadata": {},
     "output_type": "execute_result"
    },
    {
     "data": {
      "text/plain": [
       "({'max_depth': 3, 'n_estimators': 100}, 0.7564029222808666)"
      ]
     },
     "execution_count": 140,
     "metadata": {},
     "output_type": "execute_result"
    }
   ],
   "source": [
    "X_train, X_test, y_train, y_test = train_test_split(processed_mailout_train, target, test_size=0.3, stratify=target)\n",
    "GradientBoosting = GradientBoostingClassifier()\n",
    "parameters = {'n_estimators': [100, 200, 500],\n",
    "              \"max_depth\":[3,5]\n",
    "             }\n",
    "gridSearch_model = GridSearchCV(estimator=GradientBoosting, param_grid=parameters, cv=5, scoring='roc_auc')\n",
    "gridSearch_model.fit(X_train, y_train)\n",
    "gridSearch_model.best_params_, gridSearch_model.best_score_"
   ]
  },
  {
   "cell_type": "code",
   "execution_count": 141,
   "metadata": {},
   "outputs": [
    {
     "data": {
      "text/plain": [
       "GridSearchCV(cv=5, error_score='raise-deprecating',\n",
       "             estimator=GradientBoostingClassifier(criterion='friedman_mse',\n",
       "                                                  init=None, learning_rate=0.1,\n",
       "                                                  loss='deviance', max_depth=3,\n",
       "                                                  max_features=None,\n",
       "                                                  max_leaf_nodes=None,\n",
       "                                                  min_impurity_decrease=0.0,\n",
       "                                                  min_impurity_split=None,\n",
       "                                                  min_samples_leaf=1,\n",
       "                                                  min_samples_split=2,\n",
       "                                                  min_weight_fraction_leaf=0.0,\n",
       "                                                  n_estimators=100,\n",
       "                                                  n_iter_no_change=None,\n",
       "                                                  presort='auto',\n",
       "                                                  random_state=None,\n",
       "                                                  subsample=1.0, tol=0.0001,\n",
       "                                                  validation_fraction=0.1,\n",
       "                                                  verbose=0, warm_start=False),\n",
       "             iid='warn', n_jobs=None,\n",
       "             param_grid={'learning_rate': [0.05, 0.1, 0.15],\n",
       "                         'min_samples_leaf': [1, 2, 3],\n",
       "                         'min_samples_split': [2, 3, 4]},\n",
       "             pre_dispatch='2*n_jobs', refit=True, return_train_score=False,\n",
       "             scoring='roc_auc', verbose=0)"
      ]
     },
     "execution_count": 141,
     "metadata": {},
     "output_type": "execute_result"
    },
    {
     "data": {
      "text/plain": [
       "({'learning_rate': 0.05, 'min_samples_leaf': 2, 'min_samples_split': 2},\n",
       " 0.7603820448463853)"
      ]
     },
     "execution_count": 141,
     "metadata": {},
     "output_type": "execute_result"
    }
   ],
   "source": [
    "parameters = {\"learning_rate\": [0.05, 0.1, 0.15],\n",
    "              \"min_samples_split\": [2, 3, 4],\n",
    "              \"min_samples_leaf\": [1, 2, 3]\n",
    "             }\n",
    "gridSearch_model = GridSearchCV(estimator=GradientBoostingClassifier(max_depth=3,n_estimators=100),\n",
    "                                param_grid=parameters,\n",
    "                                cv=5,\n",
    "                                scoring='roc_auc')\n",
    "gridSearch_model.fit(X_train, y_train)\n",
    "gridSearch_model.best_params_, gridSearch_model.best_score_"
   ]
  },
  {
   "cell_type": "code",
   "execution_count": 142,
   "metadata": {},
   "outputs": [
    {
     "data": {
      "text/plain": [
       "GradientBoostingClassifier(criterion='friedman_mse', init=None,\n",
       "                           learning_rate=0.05, loss='deviance', max_depth=3,\n",
       "                           max_features=None, max_leaf_nodes=None,\n",
       "                           min_impurity_decrease=0.0, min_impurity_split=None,\n",
       "                           min_samples_leaf=2, min_samples_split=2,\n",
       "                           min_weight_fraction_leaf=0.0, n_estimators=100,\n",
       "                           n_iter_no_change=None, presort='auto',\n",
       "                           random_state=None, subsample=1.0, tol=0.0001,\n",
       "                           validation_fraction=0.1, verbose=0,\n",
       "                           warm_start=False)"
      ]
     },
     "execution_count": 142,
     "metadata": {},
     "output_type": "execute_result"
    }
   ],
   "source": [
    "tuned_model = GradientBoostingClassifier(max_depth=3,\n",
    "                                        n_estimators=100,\n",
    "                                        learning_rate=0.05,\n",
    "                                        min_samples_leaf=2,\n",
    "                                        min_samples_split=2)\n",
    "tuned_model.fit(X_train, y_train)\n",
    "#y_pred = tuned_model.predict(X_test)"
   ]
  },
  {
   "cell_type": "code",
   "execution_count": 163,
   "metadata": {},
   "outputs": [],
   "source": [
    "def plot_feature_importance(model, model_type, features, plot_n=10):\n",
    "    feature_importance = pd.DataFrame({'feature': features, 'importance': model.feature_importances_})\n",
    "    feature_importance = feature_importance.sort_values('importance', ascending=False).reset_index(drop=True)\n",
    "    feature_importance['normalised'] = feature_importance['importance'] / feature_importance['importance'].sum()\n",
    "    \n",
    "    plt.figure(figsize=(10,6))\n",
    "    ax = plt.subplot()\n",
    "    ax.barh(list(reversed(list(feature_importance.index[:plot_n]))),\n",
    "            feature_importance['normalised'][:plot_n],\n",
    "            align='center', edgecolor='k'\n",
    "           )\n",
    "    ax.set_yticks(list(reversed(list(feature_importance.index[:plot_n]))))\n",
    "    ax.set_yticklabels(feature_importance['feature'][:plot_n], size=12)\n",
    "    plt.xlabel('Normalised importance', size=15)\n",
    "    plt.title(f'Feature Importance ({model_type})', size=14)"
   ]
  },
  {
   "cell_type": "code",
   "execution_count": 164,
   "metadata": {},
   "outputs": [
    {
     "data": {
      "image/png": "[encoded data removed]",
      "text/plain": [
       "<Figure size 720x432 with 1 Axes>"
      ]
     },
     "metadata": {
      "needs_background": "light"
     },
     "output_type": "display_data"
    }
   ],
   "source": [
    "plot_feature_importance(tuned_model, \"Gradient Boosting Classifier\", mailout_train_MMS.columns)\n",
    "#mailout_train_MMS.columns"
   ]
  },
  {
   "cell_type": "markdown",
   "metadata": {},
   "source": [
    "## Part 3: Kaggle Competition\n",
    "\n",
    "Now that you've created a model to predict which individuals are most likely to respond to a mailout campaign, it's time to test that model in competition through Kaggle. If you click on the link [here](http://www.kaggle.com/t/21e6d45d4c574c7fa2d868f0e8c83140), you'll be taken to the competition page where, if you have a Kaggle account, you can enter. If you're one of the top performers, you may have the chance to be contacted by a hiring manager from Arvato or Bertelsmann for an interview!\n",
    "\n",
    "Your entry to the competition should be a CSV file with two columns. The first column should be a copy of \"LNR\", which acts as an ID number for each individual in the \"TEST\" partition. The second column, \"RESPONSE\", should be some measure of how likely each individual became a customer – this might not be a straightforward probability. As you should have found in Part 2, there is a large output class imbalance, where most individuals did not respond to the mailout. Thus, predicting individual classes and using accuracy does not seem to be an appropriate performance evaluation method. Instead, the competition will be using AUC to evaluate performance. The exact values of the \"RESPONSE\" column do not matter as much: only that the higher values try to capture as many of the actual customers as possible, early in the ROC curve sweep."
   ]
  },
  {
   "cell_type": "code",
   "execution_count": 143,
   "metadata": {},
   "outputs": [
    {
     "name": "stderr",
     "output_type": "stream",
     "text": [
      "/Users/mhashimoto/opt/anaconda3/lib/python3.7/site-packages/IPython/core/interactiveshell.py:3058: DtypeWarning: Columns (18,19) have mixed types. Specify dtype option on import or set low_memory=False.\n",
      "  interactivity=interactivity, compiler=compiler, result=result)\n"
     ]
    }
   ],
   "source": [
    "#mailout_test = pd.read_csv('../../data/Term2/capstone/arvato_data/Udacity_MAILOUT_052018_TEST.csv', sep=';')\n",
    "mailout_test = pd.read_csv('/Users/mhashimoto/anaconda2/projects/files/Udacity_MAILOUT_052018_TEST.csv', sep=';')\n"
   ]
  },
  {
   "cell_type": "code",
   "execution_count": 144,
   "metadata": {},
   "outputs": [],
   "source": [
    "mailout_test_cleaned = data_cleanup(mailout_test)\n",
    "mailout_test_copy = mailout_test_cleaned.copy()\n",
    "\n",
    "for row in unknown_meaning.iterrows():\n",
    "    attribute = row[1]['Attribute']\n",
    "    value = row[1]['Value']\n",
    "    \n",
    "    if attribute in mailout_test_copy.columns:\n",
    "        if isinstance(value, int):\n",
    "            mailout_test_copy[attribute].replace(value, np.nan, inplace=True)\n",
    "        elif isinstance(value, str):\n",
    "            mailout_test_copy[attribute].replace(str(value), np.nan, inplace=True)"
   ]
  },
  {
   "cell_type": "code",
   "execution_count": 145,
   "metadata": {},
   "outputs": [
    {
     "data": {
      "text/plain": [
       "0"
      ]
     },
     "execution_count": 145,
     "metadata": {},
     "output_type": "execute_result"
    }
   ],
   "source": [
    "submission = pd.DataFrame(mailout_test_copy['LNR'])\n",
    "mailout_test_copy = mailout_test_copy.drop('LNR', axis=1, inplace=False)\n",
    "mailout_test_copy = mailout_test_copy.drop(common_attr, axis=1, inplace=False)\n",
    "processed_mailout_test = pre_processing(mailout_test_copy)\n",
    "processed_mailout_test.isnull().sum().sum()\n",
    "\n",
    "mailout_test_MMS = pd.DataFrame(MinMaxScaler().fit_transform(processed_mailout_test), columns=processed_mailout_test.columns)"
   ]
  },
  {
   "cell_type": "code",
   "execution_count": 147,
   "metadata": {},
   "outputs": [],
   "source": [
    "submission['RESPONSE'] = tuned_model.predict(mailout_test_MMS)\n",
    "submission.to_csv('/Users/mhashimoto/anaconda2/projects/files/Submissioin.csv', index=False)"
   ]
  }
 ],
 "metadata": {
  "kernelspec": {
   "display_name": "Python 3",
   "language": "python",
   "name": "python3"
  },
  "language_info": {
   "codemirror_mode": {
    "name": "ipython",
    "version": 3
   },
   "file_extension": ".py",
   "mimetype": "text/x-python",
   "name": "python",
   "nbconvert_exporter": "python",
   "pygments_lexer": "ipython3",
   "version": "3.7.4"
  }
 },
 "nbformat": 4,
 "nbformat_minor": 2
}
